{
  "nbformat": 4,
  "nbformat_minor": 0,
  "metadata": {
    "colab": {
      "name": "religion-name-data analysis .ipynb",
      "provenance": [],
      "mount_file_id": "139IBYqcmPAKLqh0Bz1qNd3r50aKk4Len",
      "authorship_tag": "ABX9TyPV+Z0JSEb7Jx/5+ha0xzVu",
      "include_colab_link": true
    },
    "kernelspec": {
      "name": "python3",
      "display_name": "Python 3"
    },
    "accelerator": "GPU"
  },
  "cells": [
    {
      "cell_type": "markdown",
      "metadata": {
        "id": "view-in-github",
        "colab_type": "text"
      },
      "source": [
        "<a href=\"https://colab.research.google.com/github/islam-mirajul/Name-Based-Community-Prediction/blob/main/Word-Frequency-Analysis.ipynb\" target=\"_parent\"><img src=\"https://colab.research.google.com/assets/colab-badge.svg\" alt=\"Open In Colab\"/></a>"
      ]
    },
    {
      "cell_type": "code",
      "metadata": {
        "id": "dbTyAgsD7VaX",
        "colab": {
          "base_uri": "https://localhost:8080/",
          "height": 204
        },
        "outputId": "261f9b00-f8f1-4709-8960-9e5688e225a7"
      },
      "source": [
        "#Full Name Analysis\n",
        "import pandas as pd\n",
        "df = pd.read_csv('/content/drive/MyDrive/name-religion/Religion-Prediction-large.csv')\n",
        "df.head()"
      ],
      "execution_count": null,
      "outputs": [
        {
          "output_type": "execute_result",
          "data": {
            "text/html": [
              "<div>\n",
              "<style scoped>\n",
              "    .dataframe tbody tr th:only-of-type {\n",
              "        vertical-align: middle;\n",
              "    }\n",
              "\n",
              "    .dataframe tbody tr th {\n",
              "        vertical-align: top;\n",
              "    }\n",
              "\n",
              "    .dataframe thead th {\n",
              "        text-align: right;\n",
              "    }\n",
              "</style>\n",
              "<table border=\"1\" class=\"dataframe\">\n",
              "  <thead>\n",
              "    <tr style=\"text-align: right;\">\n",
              "      <th></th>\n",
              "      <th>Name</th>\n",
              "      <th>Religion</th>\n",
              "    </tr>\n",
              "  </thead>\n",
              "  <tbody>\n",
              "    <tr>\n",
              "      <th>0</th>\n",
              "      <td>মোঃ জাকির  হোসেন</td>\n",
              "      <td>ইসলাম</td>\n",
              "    </tr>\n",
              "    <tr>\n",
              "      <th>1</th>\n",
              "      <td>মোস্তফা  কামাল</td>\n",
              "      <td>ইসলাম</td>\n",
              "    </tr>\n",
              "    <tr>\n",
              "      <th>2</th>\n",
              "      <td>মারিয়া  খানম</td>\n",
              "      <td>ইসলাম</td>\n",
              "    </tr>\n",
              "    <tr>\n",
              "      <th>3</th>\n",
              "      <td>আকাশ   কেশারী</td>\n",
              "      <td>হিন্দু</td>\n",
              "    </tr>\n",
              "    <tr>\n",
              "      <th>4</th>\n",
              "      <td>আনি বাবলু বড়ুয়া</td>\n",
              "      <td>বৌদ্ধ</td>\n",
              "    </tr>\n",
              "  </tbody>\n",
              "</table>\n",
              "</div>"
            ],
            "text/plain": [
              "                Name Religion\n",
              "0   মোঃ জাকির  হোসেন    ইসলাম\n",
              "1     মোস্তফা  কামাল    ইসলাম\n",
              "2       মারিয়া  খানম    ইসলাম\n",
              "3      আকাশ   কেশারী   হিন্দু\n",
              "4  আনি বাবলু বড়ুয়া    বৌদ্ধ"
            ]
          },
          "metadata": {
            "tags": []
          },
          "execution_count": 1
        }
      ]
    },
    {
      "cell_type": "code",
      "metadata": {
        "colab": {
          "base_uri": "https://localhost:8080/",
          "height": 173
        },
        "id": "tdEz0uQSAhYK",
        "outputId": "b6db5d9b-940c-491c-b10b-4562e11c84d0"
      },
      "source": [
        "df.describe()"
      ],
      "execution_count": null,
      "outputs": [
        {
          "output_type": "execute_result",
          "data": {
            "text/html": [
              "<div>\n",
              "<style scoped>\n",
              "    .dataframe tbody tr th:only-of-type {\n",
              "        vertical-align: middle;\n",
              "    }\n",
              "\n",
              "    .dataframe tbody tr th {\n",
              "        vertical-align: top;\n",
              "    }\n",
              "\n",
              "    .dataframe thead th {\n",
              "        text-align: right;\n",
              "    }\n",
              "</style>\n",
              "<table border=\"1\" class=\"dataframe\">\n",
              "  <thead>\n",
              "    <tr style=\"text-align: right;\">\n",
              "      <th></th>\n",
              "      <th>Name</th>\n",
              "      <th>Religion</th>\n",
              "    </tr>\n",
              "  </thead>\n",
              "  <tbody>\n",
              "    <tr>\n",
              "      <th>count</th>\n",
              "      <td>8230</td>\n",
              "      <td>8230</td>\n",
              "    </tr>\n",
              "    <tr>\n",
              "      <th>unique</th>\n",
              "      <td>3977</td>\n",
              "      <td>4</td>\n",
              "    </tr>\n",
              "    <tr>\n",
              "      <th>top</th>\n",
              "      <td>হৃদয়  বড়ুয়া</td>\n",
              "      <td>ইসলাম</td>\n",
              "    </tr>\n",
              "    <tr>\n",
              "      <th>freq</th>\n",
              "      <td>10</td>\n",
              "      <td>2118</td>\n",
              "    </tr>\n",
              "  </tbody>\n",
              "</table>\n",
              "</div>"
            ],
            "text/plain": [
              "                  Name Religion\n",
              "count             8230     8230\n",
              "unique            3977        4\n",
              "top     হৃদয়  বড়ুয়া    ইসলাম\n",
              "freq                10     2118"
            ]
          },
          "metadata": {
            "tags": []
          },
          "execution_count": 2
        }
      ]
    },
    {
      "cell_type": "code",
      "metadata": {
        "colab": {
          "base_uri": "https://localhost:8080/",
          "height": 204
        },
        "id": "BscHBkUfAl4W",
        "outputId": "c52cd751-0ad4-4f0a-c672-281deceb8278"
      },
      "source": [
        "msg = df.Name\n",
        "msg_split = msg.str.split(expand=True)\n",
        "msg_split.head()"
      ],
      "execution_count": null,
      "outputs": [
        {
          "output_type": "execute_result",
          "data": {
            "text/html": [
              "<div>\n",
              "<style scoped>\n",
              "    .dataframe tbody tr th:only-of-type {\n",
              "        vertical-align: middle;\n",
              "    }\n",
              "\n",
              "    .dataframe tbody tr th {\n",
              "        vertical-align: top;\n",
              "    }\n",
              "\n",
              "    .dataframe thead th {\n",
              "        text-align: right;\n",
              "    }\n",
              "</style>\n",
              "<table border=\"1\" class=\"dataframe\">\n",
              "  <thead>\n",
              "    <tr style=\"text-align: right;\">\n",
              "      <th></th>\n",
              "      <th>0</th>\n",
              "      <th>1</th>\n",
              "      <th>2</th>\n",
              "      <th>3</th>\n",
              "      <th>4</th>\n",
              "    </tr>\n",
              "  </thead>\n",
              "  <tbody>\n",
              "    <tr>\n",
              "      <th>0</th>\n",
              "      <td>মোঃ</td>\n",
              "      <td>জাকির</td>\n",
              "      <td>হোসেন</td>\n",
              "      <td>None</td>\n",
              "      <td>None</td>\n",
              "    </tr>\n",
              "    <tr>\n",
              "      <th>1</th>\n",
              "      <td>মোস্তফা</td>\n",
              "      <td>কামাল</td>\n",
              "      <td>None</td>\n",
              "      <td>None</td>\n",
              "      <td>None</td>\n",
              "    </tr>\n",
              "    <tr>\n",
              "      <th>2</th>\n",
              "      <td>মারিয়া</td>\n",
              "      <td>খানম</td>\n",
              "      <td>None</td>\n",
              "      <td>None</td>\n",
              "      <td>None</td>\n",
              "    </tr>\n",
              "    <tr>\n",
              "      <th>3</th>\n",
              "      <td>আকাশ</td>\n",
              "      <td>কেশারী</td>\n",
              "      <td>None</td>\n",
              "      <td>None</td>\n",
              "      <td>None</td>\n",
              "    </tr>\n",
              "    <tr>\n",
              "      <th>4</th>\n",
              "      <td>আনি</td>\n",
              "      <td>বাবলু</td>\n",
              "      <td>বড়ুয়া</td>\n",
              "      <td>None</td>\n",
              "      <td>None</td>\n",
              "    </tr>\n",
              "  </tbody>\n",
              "</table>\n",
              "</div>"
            ],
            "text/plain": [
              "         0       1        2     3     4\n",
              "0      মোঃ   জাকির    হোসেন  None  None\n",
              "1  মোস্তফা   কামাল     None  None  None\n",
              "2   মারিয়া    খানম     None  None  None\n",
              "3     আকাশ  কেশারী     None  None  None\n",
              "4      আনি   বাবলু  বড়ুয়া  None  None"
            ]
          },
          "metadata": {
            "tags": []
          },
          "execution_count": 3
        }
      ]
    },
    {
      "cell_type": "code",
      "metadata": {
        "colab": {
          "base_uri": "https://localhost:8080/"
        },
        "id": "qOSqDDQtAwWl",
        "outputId": "856417c3-28d9-4650-f919-10c4225d3315"
      },
      "source": [
        "msg_stack = msg_split.stack()\n",
        "msg_stack.head()"
      ],
      "execution_count": null,
      "outputs": [
        {
          "output_type": "execute_result",
          "data": {
            "text/plain": [
              "0  0        মোঃ\n",
              "   1      জাকির\n",
              "   2      হোসেন\n",
              "1  0    মোস্তফা\n",
              "   1      কামাল\n",
              "dtype: object"
            ]
          },
          "metadata": {
            "tags": []
          },
          "execution_count": 4
        }
      ]
    },
    {
      "cell_type": "code",
      "metadata": {
        "colab": {
          "base_uri": "https://localhost:8080/"
        },
        "id": "WbvocooDBBga",
        "outputId": "28530a39-0aa8-4679-e55e-71551450b139"
      },
      "source": [
        "\n",
        "n_most_frequent_words = 40\n",
        "msg_word_frequency = msg_stack.value_counts()\n",
        "print(msg_word_frequency.head(n_most_frequent_words))\n",
        "pd.set_option('display.max_rows', None)\n",
        "\n"
      ],
      "execution_count": null,
      "outputs": [
        {
          "output_type": "stream",
          "text": [
            "চাকমা         952\n",
            "বড়ুয়া       486\n",
            "ইসলাম         466\n",
            "গোমেস         346\n",
            "মোঃ           324\n",
            "রোজারিও       292\n",
            "মারমা         146\n",
            "আহমেদ         136\n",
            "কুমার         122\n",
            "হোসেন         120\n",
            "খান           116\n",
            "এমডি          102\n",
            "কস্তা          94\n",
            "দাস            86\n",
            "সিং            84\n",
            "ডি             84\n",
            "বিশ্বাস        78\n",
            "রহমান          74\n",
            "চাংমা          74\n",
            "এম             72\n",
            "কোস্টা         72\n",
            "আক্তার         66\n",
            "সরকার          66\n",
            "হাসান          64\n",
            "মোহাম্মদ       64\n",
            "চৌধুরী         62\n",
            "রায়           60\n",
            "এস             56\n",
            "ক্রুজ          54\n",
            "অ্যান্টনি      48\n",
            "বাবু           46\n",
            "ঘোষ            46\n",
            "মন্ডল          44\n",
            "আর             44\n",
            "ইমন            44\n",
            "বারোই          42\n",
            "জেমস           42\n",
            "সুমন           40\n",
            "তঞ্চঙ্গ্যা     40\n",
            "শর্মা          38\n",
            "dtype: int64\n"
          ],
          "name": "stdout"
        }
      ]
    },
    {
      "cell_type": "code",
      "metadata": {
        "colab": {
          "base_uri": "https://localhost:8080/",
          "height": 313
        },
        "id": "F0pILffgC1hg",
        "outputId": "d091f3ad-53af-4c50-daaf-3c66d1822d87"
      },
      "source": [
        "import matplotlib.pyplot as plt\n",
        "%matplotlib inline\n",
        "import matplotlib.font_manager as fm\n",
        "prop = fm.FontProperties(fname='/content/drive/MyDrive/gender project/kalpurush.ttf')\n",
        "fontproperties=prop\n",
        "plt.plot\n",
        "plt.figure(figsize=(12,4))\n",
        "plt.ylabel('Counts', fontsize=15)\n",
        "plt.xlabel('Words', fontsize=15)\n",
        "plt.xticks(rotation=90, fontsize=1000000000000, fontproperties=prop)\n",
        "msg_word_frequency.head(n_most_frequent_words).plot.bar(msg_word_frequency,n_most_frequent_words);\n"
      ],
      "execution_count": null,
      "outputs": [
        {
          "output_type": "display_data",
          "data": {
            "image/png": "[encoded data removed]",
            "text/plain": [
              "<Figure size 864x288 with 1 Axes>"
            ]
          },
          "metadata": {
            "tags": [],
            "needs_background": "light"
          }
        }
      ]
    },
    {
      "cell_type": "markdown",
      "metadata": {
        "id": "ANz3D6L8M7wo"
      },
      "source": [
        "**First Name Analysis**"
      ]
    },
    {
      "cell_type": "code",
      "metadata": {
        "colab": {
          "base_uri": "https://localhost:8080/",
          "height": 204
        },
        "id": "v6qVWeq2F8kD",
        "outputId": "82f08eeb-6ca4-4fb2-b050-d76143ed245e"
      },
      "source": [
        "df = pd.read_csv('/content/drive/MyDrive/name-religion/Religion-prediction_first-name_.csv')\n",
        "df.head()\n"
      ],
      "execution_count": null,
      "outputs": [
        {
          "output_type": "execute_result",
          "data": {
            "text/html": [
              "<div>\n",
              "<style scoped>\n",
              "    .dataframe tbody tr th:only-of-type {\n",
              "        vertical-align: middle;\n",
              "    }\n",
              "\n",
              "    .dataframe tbody tr th {\n",
              "        vertical-align: top;\n",
              "    }\n",
              "\n",
              "    .dataframe thead th {\n",
              "        text-align: right;\n",
              "    }\n",
              "</style>\n",
              "<table border=\"1\" class=\"dataframe\">\n",
              "  <thead>\n",
              "    <tr style=\"text-align: right;\">\n",
              "      <th></th>\n",
              "      <th>FirstName</th>\n",
              "      <th>Religion</th>\n",
              "    </tr>\n",
              "  </thead>\n",
              "  <tbody>\n",
              "    <tr>\n",
              "      <th>0</th>\n",
              "      <td>মোঃ জাকির</td>\n",
              "      <td>ইসলাম</td>\n",
              "    </tr>\n",
              "    <tr>\n",
              "      <th>1</th>\n",
              "      <td>মোস্তফা</td>\n",
              "      <td>ইসলাম</td>\n",
              "    </tr>\n",
              "    <tr>\n",
              "      <th>2</th>\n",
              "      <td>মারিয়া</td>\n",
              "      <td>ইসলাম</td>\n",
              "    </tr>\n",
              "    <tr>\n",
              "      <th>3</th>\n",
              "      <td>আকাশ</td>\n",
              "      <td>হিন্দু</td>\n",
              "    </tr>\n",
              "    <tr>\n",
              "      <th>4</th>\n",
              "      <td>আনি বাবলু</td>\n",
              "      <td>বৌদ্ধ</td>\n",
              "    </tr>\n",
              "  </tbody>\n",
              "</table>\n",
              "</div>"
            ],
            "text/plain": [
              "    FirstName Religion\n",
              "0  মোঃ জাকির     ইসলাম\n",
              "1    মোস্তফা     ইসলাম\n",
              "2     মারিয়া     ইসলাম\n",
              "3      আকাশ     হিন্দু\n",
              "4   আনি বাবলু    বৌদ্ধ"
            ]
          },
          "metadata": {
            "tags": []
          },
          "execution_count": 10
        }
      ]
    },
    {
      "cell_type": "code",
      "metadata": {
        "colab": {
          "base_uri": "https://localhost:8080/",
          "height": 173
        },
        "id": "d2-qVgAONh9o",
        "outputId": "a159c3b5-15d6-4b86-ef01-39b585043f90"
      },
      "source": [
        "df.describe()"
      ],
      "execution_count": null,
      "outputs": [
        {
          "output_type": "execute_result",
          "data": {
            "text/html": [
              "<div>\n",
              "<style scoped>\n",
              "    .dataframe tbody tr th:only-of-type {\n",
              "        vertical-align: middle;\n",
              "    }\n",
              "\n",
              "    .dataframe tbody tr th {\n",
              "        vertical-align: top;\n",
              "    }\n",
              "\n",
              "    .dataframe thead th {\n",
              "        text-align: right;\n",
              "    }\n",
              "</style>\n",
              "<table border=\"1\" class=\"dataframe\">\n",
              "  <thead>\n",
              "    <tr style=\"text-align: right;\">\n",
              "      <th></th>\n",
              "      <th>FirstName</th>\n",
              "      <th>Religion</th>\n",
              "    </tr>\n",
              "  </thead>\n",
              "  <tbody>\n",
              "    <tr>\n",
              "      <th>count</th>\n",
              "      <td>8230</td>\n",
              "      <td>8230</td>\n",
              "    </tr>\n",
              "    <tr>\n",
              "      <th>unique</th>\n",
              "      <td>3360</td>\n",
              "      <td>4</td>\n",
              "    </tr>\n",
              "    <tr>\n",
              "      <th>top</th>\n",
              "      <td>চাকমা</td>\n",
              "      <td>ইসলাম</td>\n",
              "    </tr>\n",
              "    <tr>\n",
              "      <th>freq</th>\n",
              "      <td>30</td>\n",
              "      <td>2118</td>\n",
              "    </tr>\n",
              "  </tbody>\n",
              "</table>\n",
              "</div>"
            ],
            "text/plain": [
              "       FirstName Religion\n",
              "count       8230     8230\n",
              "unique      3360        4\n",
              "top       চাকমা     ইসলাম\n",
              "freq          30     2118"
            ]
          },
          "metadata": {
            "tags": []
          },
          "execution_count": 11
        }
      ]
    },
    {
      "cell_type": "code",
      "metadata": {
        "colab": {
          "base_uri": "https://localhost:8080/",
          "height": 204
        },
        "id": "RvA02x7mNr1p",
        "outputId": "05c7a4be-f5d9-4d0d-d651-d1cf1d6947bb"
      },
      "source": [
        "msg = df.FirstName\n",
        "msg_split = msg.str.split(expand=True)\n",
        "msg_split.head()"
      ],
      "execution_count": null,
      "outputs": [
        {
          "output_type": "execute_result",
          "data": {
            "text/html": [
              "<div>\n",
              "<style scoped>\n",
              "    .dataframe tbody tr th:only-of-type {\n",
              "        vertical-align: middle;\n",
              "    }\n",
              "\n",
              "    .dataframe tbody tr th {\n",
              "        vertical-align: top;\n",
              "    }\n",
              "\n",
              "    .dataframe thead th {\n",
              "        text-align: right;\n",
              "    }\n",
              "</style>\n",
              "<table border=\"1\" class=\"dataframe\">\n",
              "  <thead>\n",
              "    <tr style=\"text-align: right;\">\n",
              "      <th></th>\n",
              "      <th>0</th>\n",
              "      <th>1</th>\n",
              "      <th>2</th>\n",
              "      <th>3</th>\n",
              "    </tr>\n",
              "  </thead>\n",
              "  <tbody>\n",
              "    <tr>\n",
              "      <th>0</th>\n",
              "      <td>মোঃ</td>\n",
              "      <td>জাকির</td>\n",
              "      <td>None</td>\n",
              "      <td>None</td>\n",
              "    </tr>\n",
              "    <tr>\n",
              "      <th>1</th>\n",
              "      <td>মোস্তফা</td>\n",
              "      <td>None</td>\n",
              "      <td>None</td>\n",
              "      <td>None</td>\n",
              "    </tr>\n",
              "    <tr>\n",
              "      <th>2</th>\n",
              "      <td>মারিয়া</td>\n",
              "      <td>None</td>\n",
              "      <td>None</td>\n",
              "      <td>None</td>\n",
              "    </tr>\n",
              "    <tr>\n",
              "      <th>3</th>\n",
              "      <td>আকাশ</td>\n",
              "      <td>None</td>\n",
              "      <td>None</td>\n",
              "      <td>None</td>\n",
              "    </tr>\n",
              "    <tr>\n",
              "      <th>4</th>\n",
              "      <td>আনি</td>\n",
              "      <td>বাবলু</td>\n",
              "      <td>None</td>\n",
              "      <td>None</td>\n",
              "    </tr>\n",
              "  </tbody>\n",
              "</table>\n",
              "</div>"
            ],
            "text/plain": [
              "         0      1     2     3\n",
              "0      মোঃ  জাকির  None  None\n",
              "1  মোস্তফা   None  None  None\n",
              "2   মারিয়া   None  None  None\n",
              "3     আকাশ   None  None  None\n",
              "4      আনি  বাবলু  None  None"
            ]
          },
          "metadata": {
            "tags": []
          },
          "execution_count": 12
        }
      ]
    },
    {
      "cell_type": "code",
      "metadata": {
        "colab": {
          "base_uri": "https://localhost:8080/"
        },
        "id": "Pr74at4xQ0Jg",
        "outputId": "c34250d8-2068-48db-f788-165df88ece2c"
      },
      "source": [
        "msg_stack = msg_split.stack()\n",
        "msg_stack.head()"
      ],
      "execution_count": null,
      "outputs": [
        {
          "output_type": "execute_result",
          "data": {
            "text/plain": [
              "0  0        মোঃ\n",
              "   1      জাকির\n",
              "1  0    মোস্তফা\n",
              "2  0     মারিয়া\n",
              "3  0       আকাশ\n",
              "dtype: object"
            ]
          },
          "metadata": {
            "tags": []
          },
          "execution_count": 13
        }
      ]
    },
    {
      "cell_type": "code",
      "metadata": {
        "colab": {
          "base_uri": "https://localhost:8080/"
        },
        "id": "XpiSsL3QQ9Kj",
        "outputId": "6a966f0e-9ae0-41fb-ef6b-c8f1eed98446"
      },
      "source": [
        "\n",
        "n_most_frequent_words = 40\n",
        "msg_word_frequency = msg_stack.value_counts()\n",
        "print(msg_word_frequency.head(n_most_frequent_words))\n",
        "pd.set_option('display.max_rows', None)"
      ],
      "execution_count": null,
      "outputs": [
        {
          "output_type": "stream",
          "text": [
            "মোঃ          324\n",
            "চাকমা        138\n",
            "এমডি         102\n",
            "ইসলাম         70\n",
            "এম            66\n",
            "মোহাম্মদ      64\n",
            "ডি            56\n",
            "বড়ুয়া       52\n",
            "কুমার         46\n",
            "আহমেদ         46\n",
            "অ্যান্টনি     44\n",
            "এস            42\n",
            "আর            40\n",
            "জেমস          38\n",
            "এ             34\n",
            "সুমন          32\n",
            "আক্তার        32\n",
            "কে            30\n",
            "অমিত          30\n",
            "হাসান         28\n",
            "হৃদয়         28\n",
            "হোসেন         28\n",
            "বাবু          28\n",
            "ইমন           28\n",
            "জন            26\n",
            "জোসেফ         26\n",
            "রকি           24\n",
            "এন            24\n",
            "আল            24\n",
            "চার্লস        22\n",
            "মাইকেল        22\n",
            "রনি           20\n",
            "মুহাম্মদ      20\n",
            "জে            20\n",
            "সুজন          20\n",
            "সাগর          20\n",
            "পি            20\n",
            "সিং           20\n",
            "জয়           20\n",
            "ফ্রান্সিস     20\n",
            "dtype: int64\n"
          ],
          "name": "stdout"
        }
      ]
    },
    {
      "cell_type": "code",
      "metadata": {
        "colab": {
          "base_uri": "https://localhost:8080/",
          "height": 309
        },
        "id": "d4rTWJmYRBNS",
        "outputId": "8ce19e70-39b6-47bc-8efb-7fe63ad699fa"
      },
      "source": [
        "import matplotlib.pyplot as plt\n",
        "%matplotlib inline\n",
        "import matplotlib.font_manager as fm\n",
        "prop = fm.FontProperties(fname='/content/drive/MyDrive/gender project/kalpurush.ttf')\n",
        "fontproperties=prop\n",
        "plt.plot\n",
        "plt.figure(figsize=(12,4))\n",
        "plt.ylabel('Counts', fontsize=15)\n",
        "plt.xlabel('Words', fontsize=15)\n",
        "plt.xticks(rotation=90, fontsize=100, fontproperties=prop)\n",
        "msg_word_frequency.head(n_most_frequent_words).plot.bar(msg_word_frequency,n_most_frequent_words);"
      ],
      "execution_count": null,
      "outputs": [
        {
          "output_type": "display_data",
          "data": {
            "image/png": "[encoded data removed]",
            "text/plain": [
              "<Figure size 864x288 with 1 Axes>"
            ]
          },
          "metadata": {
            "tags": [],
            "needs_background": "light"
          }
        }
      ]
    },
    {
      "cell_type": "markdown",
      "metadata": {
        "id": "6smYA9H8SraV"
      },
      "source": [
        "**Last Name**\n"
      ]
    },
    {
      "cell_type": "code",
      "metadata": {
        "colab": {
          "base_uri": "https://localhost:8080/",
          "height": 204
        },
        "id": "GI_vjImCRSLJ",
        "outputId": "a7171568-a302-43f4-e787-253e8a7ebb13"
      },
      "source": [
        "df = pd.read_csv('/content/drive/MyDrive/name-religion/Religion-prediction_last-name_.csv')\n",
        "df.head()"
      ],
      "execution_count": null,
      "outputs": [
        {
          "output_type": "execute_result",
          "data": {
            "text/html": [
              "<div>\n",
              "<style scoped>\n",
              "    .dataframe tbody tr th:only-of-type {\n",
              "        vertical-align: middle;\n",
              "    }\n",
              "\n",
              "    .dataframe tbody tr th {\n",
              "        vertical-align: top;\n",
              "    }\n",
              "\n",
              "    .dataframe thead th {\n",
              "        text-align: right;\n",
              "    }\n",
              "</style>\n",
              "<table border=\"1\" class=\"dataframe\">\n",
              "  <thead>\n",
              "    <tr style=\"text-align: right;\">\n",
              "      <th></th>\n",
              "      <th>LastName</th>\n",
              "      <th>Religion</th>\n",
              "    </tr>\n",
              "  </thead>\n",
              "  <tbody>\n",
              "    <tr>\n",
              "      <th>0</th>\n",
              "      <td>হোসেন</td>\n",
              "      <td>ইসলাম</td>\n",
              "    </tr>\n",
              "    <tr>\n",
              "      <th>1</th>\n",
              "      <td>কামাল</td>\n",
              "      <td>ইসলাম</td>\n",
              "    </tr>\n",
              "    <tr>\n",
              "      <th>2</th>\n",
              "      <td>খানম</td>\n",
              "      <td>ইসলাম</td>\n",
              "    </tr>\n",
              "    <tr>\n",
              "      <th>3</th>\n",
              "      <td>কেশারী</td>\n",
              "      <td>হিন্দু</td>\n",
              "    </tr>\n",
              "    <tr>\n",
              "      <th>4</th>\n",
              "      <td>বড়ুয়া</td>\n",
              "      <td>বৌদ্ধ</td>\n",
              "    </tr>\n",
              "  </tbody>\n",
              "</table>\n",
              "</div>"
            ],
            "text/plain": [
              "  LastName Religion\n",
              "0    হোসেন    ইসলাম\n",
              "1    কামাল    ইসলাম\n",
              "2     খানম    ইসলাম\n",
              "3   কেশারী   হিন্দু\n",
              "4  বড়ুয়া    বৌদ্ধ"
            ]
          },
          "metadata": {
            "tags": []
          },
          "execution_count": 16
        }
      ]
    },
    {
      "cell_type": "code",
      "metadata": {
        "colab": {
          "base_uri": "https://localhost:8080/",
          "height": 173
        },
        "id": "yefSpTlDS2g0",
        "outputId": "c1cae062-0a05-437d-feff-80fd791e57ea"
      },
      "source": [
        "df.describe()"
      ],
      "execution_count": null,
      "outputs": [
        {
          "output_type": "execute_result",
          "data": {
            "text/html": [
              "<div>\n",
              "<style scoped>\n",
              "    .dataframe tbody tr th:only-of-type {\n",
              "        vertical-align: middle;\n",
              "    }\n",
              "\n",
              "    .dataframe tbody tr th {\n",
              "        vertical-align: top;\n",
              "    }\n",
              "\n",
              "    .dataframe thead th {\n",
              "        text-align: right;\n",
              "    }\n",
              "</style>\n",
              "<table border=\"1\" class=\"dataframe\">\n",
              "  <thead>\n",
              "    <tr style=\"text-align: right;\">\n",
              "      <th></th>\n",
              "      <th>LastName</th>\n",
              "      <th>Religion</th>\n",
              "    </tr>\n",
              "  </thead>\n",
              "  <tbody>\n",
              "    <tr>\n",
              "      <th>count</th>\n",
              "      <td>8230</td>\n",
              "      <td>8230</td>\n",
              "    </tr>\n",
              "    <tr>\n",
              "      <th>unique</th>\n",
              "      <td>1540</td>\n",
              "      <td>4</td>\n",
              "    </tr>\n",
              "    <tr>\n",
              "      <th>top</th>\n",
              "      <td>চাকমা</td>\n",
              "      <td>ইসলাম</td>\n",
              "    </tr>\n",
              "    <tr>\n",
              "      <th>freq</th>\n",
              "      <td>810</td>\n",
              "      <td>2118</td>\n",
              "    </tr>\n",
              "  </tbody>\n",
              "</table>\n",
              "</div>"
            ],
            "text/plain": [
              "       LastName Religion\n",
              "count      8230     8230\n",
              "unique     1540        4\n",
              "top       চাকমা    ইসলাম\n",
              "freq        810     2118"
            ]
          },
          "metadata": {
            "tags": []
          },
          "execution_count": 17
        }
      ]
    },
    {
      "cell_type": "code",
      "metadata": {
        "colab": {
          "base_uri": "https://localhost:8080/",
          "height": 204
        },
        "id": "UQITtiGNS8L_",
        "outputId": "92a67b36-a065-440e-f171-b706c7893d46"
      },
      "source": [
        "msg = df.LastName\n",
        "msg_split = msg.str.split(expand=True)\n",
        "msg_split.head()"
      ],
      "execution_count": null,
      "outputs": [
        {
          "output_type": "execute_result",
          "data": {
            "text/html": [
              "<div>\n",
              "<style scoped>\n",
              "    .dataframe tbody tr th:only-of-type {\n",
              "        vertical-align: middle;\n",
              "    }\n",
              "\n",
              "    .dataframe tbody tr th {\n",
              "        vertical-align: top;\n",
              "    }\n",
              "\n",
              "    .dataframe thead th {\n",
              "        text-align: right;\n",
              "    }\n",
              "</style>\n",
              "<table border=\"1\" class=\"dataframe\">\n",
              "  <thead>\n",
              "    <tr style=\"text-align: right;\">\n",
              "      <th></th>\n",
              "      <th>0</th>\n",
              "      <th>1</th>\n",
              "      <th>2</th>\n",
              "    </tr>\n",
              "  </thead>\n",
              "  <tbody>\n",
              "    <tr>\n",
              "      <th>0</th>\n",
              "      <td>হোসেন</td>\n",
              "      <td>None</td>\n",
              "      <td>None</td>\n",
              "    </tr>\n",
              "    <tr>\n",
              "      <th>1</th>\n",
              "      <td>কামাল</td>\n",
              "      <td>None</td>\n",
              "      <td>None</td>\n",
              "    </tr>\n",
              "    <tr>\n",
              "      <th>2</th>\n",
              "      <td>খানম</td>\n",
              "      <td>None</td>\n",
              "      <td>None</td>\n",
              "    </tr>\n",
              "    <tr>\n",
              "      <th>3</th>\n",
              "      <td>কেশারী</td>\n",
              "      <td>None</td>\n",
              "      <td>None</td>\n",
              "    </tr>\n",
              "    <tr>\n",
              "      <th>4</th>\n",
              "      <td>বড়ুয়া</td>\n",
              "      <td>None</td>\n",
              "      <td>None</td>\n",
              "    </tr>\n",
              "  </tbody>\n",
              "</table>\n",
              "</div>"
            ],
            "text/plain": [
              "         0     1     2\n",
              "0    হোসেন  None  None\n",
              "1    কামাল  None  None\n",
              "2     খানম  None  None\n",
              "3   কেশারী  None  None\n",
              "4  বড়ুয়া  None  None"
            ]
          },
          "metadata": {
            "tags": []
          },
          "execution_count": 18
        }
      ]
    },
    {
      "cell_type": "code",
      "metadata": {
        "colab": {
          "base_uri": "https://localhost:8080/"
        },
        "id": "81b1A8gqTB7G",
        "outputId": "0cabfe7a-80c2-4106-b549-c652a310c9d1"
      },
      "source": [
        "msg_stack = msg_split.stack()\n",
        "msg_stack.head()"
      ],
      "execution_count": null,
      "outputs": [
        {
          "output_type": "execute_result",
          "data": {
            "text/plain": [
              "0  0      হোসেন\n",
              "1  0      কামাল\n",
              "2  0       খানম\n",
              "3  0     কেশারী\n",
              "4  0    বড়ুয়া\n",
              "dtype: object"
            ]
          },
          "metadata": {
            "tags": []
          },
          "execution_count": 19
        }
      ]
    },
    {
      "cell_type": "code",
      "metadata": {
        "colab": {
          "base_uri": "https://localhost:8080/"
        },
        "id": "NV-5w-RMTGru",
        "outputId": "9aa9329e-bf60-4682-8eda-81adb6a3aa72"
      },
      "source": [
        "\n",
        "n_most_frequent_words = 40\n",
        "msg_word_frequency = msg_stack.value_counts()\n",
        "print(msg_word_frequency.head(n_most_frequent_words))\n",
        "pd.set_option('display.max_rows', None)"
      ],
      "execution_count": null,
      "outputs": [
        {
          "output_type": "stream",
          "text": [
            "চাকমা          814\n",
            "বড়ুয়া        434\n",
            "ইসলাম          396\n",
            "গোমেস          330\n",
            "রোজারিও        278\n",
            "মারমা          132\n",
            "খান            104\n",
            "কস্তা           94\n",
            "হোসেন           92\n",
            "আহমেদ           90\n",
            "দাস             80\n",
            "কুমার           76\n",
            "বিশ্বাস         72\n",
            "কোস্টা          66\n",
            "সিং             64\n",
            "চাংমা           64\n",
            "রহমান           56\n",
            "চৌধুরী          52\n",
            "ক্রুজ           50\n",
            "রায়            48\n",
            "সরকার           48\n",
            "বারোই           40\n",
            "মন্ডল           40\n",
            "ঘোষ             38\n",
            "তঞ্চঙ্গ্যা      38\n",
            "শর্মা           36\n",
            "হাসান           36\n",
            "আক্তার          34\n",
            "সাহা            34\n",
            "ডি              28\n",
            "যাদব            28\n",
            "দে              26\n",
            "কোরায়া         24\n",
            "পিউরিফিকেশন     22\n",
            "রিচিল           22\n",
            "ত্রিপুরা        22\n",
            "মিয়া           20\n",
            "আলম             20\n",
            "হালদার          18\n",
            "জাহান           18\n",
            "dtype: int64\n"
          ],
          "name": "stdout"
        }
      ]
    },
    {
      "cell_type": "code",
      "metadata": {
        "colab": {
          "base_uri": "https://localhost:8080/",
          "height": 326
        },
        "id": "8auU81sQTJ09",
        "outputId": "4f60250d-c070-4fd4-9e08-2e66f10fc261"
      },
      "source": [
        "import matplotlib.pyplot as plt\n",
        "%matplotlib inline\n",
        "import matplotlib.font_manager as fm\n",
        "prop = fm.FontProperties(fname='/content/drive/MyDrive/gender project/kalpurush.ttf')\n",
        "fontproperties=prop\n",
        "plt.plot\n",
        "plt.figure(figsize=(12,4))\n",
        "plt.ylabel('Counts', fontsize=15)\n",
        "plt.xlabel('Words', fontsize=15)\n",
        "plt.xticks(rotation=90, fontsize=100, fontproperties=prop)\n",
        "msg_word_frequency.head(n_most_frequent_words).plot.bar(msg_word_frequency,n_most_frequent_words);"
      ],
      "execution_count": null,
      "outputs": [
        {
          "output_type": "display_data",
          "data": {
            "image/png": "[encoded data removed]",
            "text/plain": [
              "<Figure size 864x288 with 1 Axes>"
            ]
          },
          "metadata": {
            "tags": [],
            "needs_background": "light"
          }
        }
      ]
    }
  ]
}